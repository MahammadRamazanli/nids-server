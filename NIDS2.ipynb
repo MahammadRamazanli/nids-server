{
 "cells": [
  {
   "cell_type": "markdown",
   "id": "9f26643c",
   "metadata": {},
   "source": [
    "# **Import Libraries**"
   ]
  },
  {
   "cell_type": "code",
   "execution_count": 29,
   "id": "6bb373bb",
   "metadata": {},
   "outputs": [],
   "source": [
    "import pandas as pd\n",
    "import numpy as np\n",
    "import matplotlib.pyplot as plt\n",
    "import seaborn as sns\n",
    "import warnings\n",
    "warnings.filterwarnings(\"ignore\")\n",
    "from sklearn.impute import KNNImputer\n",
    "from sklearn.model_selection import train_test_split\n",
    "from sklearn.preprocessing import LabelEncoder\n",
    "from imblearn.over_sampling import SMOTE\n",
    "import xgboost as xgb\n",
    "from sklearn.ensemble import RandomForestClassifier\n",
    "from xgboost import XGBClassifier\n",
    "from sklearn.metrics import accuracy_score, classification_report\n",
    "from sklearn.metrics import confusion_matrix\n",
    "from collections import Counter\n",
    "import warnings"
   ]
  },
  {
   "cell_type": "markdown",
   "id": "78fb15b6",
   "metadata": {},
   "source": [
    "# **Upload and Getting to know the data**"
   ]
  },
  {
   "cell_type": "code",
   "execution_count": null,
   "id": "7eff5128",
   "metadata": {},
   "outputs": [
    {
     "data": {
      "text/html": [
       "<div>\n",
       "<style scoped>\n",
       "    .dataframe tbody tr th:only-of-type {\n",
       "        vertical-align: middle;\n",
       "    }\n",
       "\n",
       "    .dataframe tbody tr th {\n",
       "        vertical-align: top;\n",
       "    }\n",
       "\n",
       "    .dataframe thead th {\n",
       "        text-align: right;\n",
       "    }\n",
       "</style>\n",
       "<table border=\"1\" class=\"dataframe\">\n",
       "  <thead>\n",
       "    <tr style=\"text-align: right;\">\n",
       "      <th></th>\n",
       "      <th>duration</th>\n",
       "      <th>protocol_type</th>\n",
       "      <th>service</th>\n",
       "      <th>flag</th>\n",
       "      <th>src_bytes</th>\n",
       "      <th>dst_bytes</th>\n",
       "      <th>land</th>\n",
       "      <th>wrong_fragment</th>\n",
       "      <th>urgent</th>\n",
       "      <th>hot</th>\n",
       "      <th>...</th>\n",
       "      <th>dst_host_srv_count</th>\n",
       "      <th>dst_host_same_srv_rate</th>\n",
       "      <th>dst_host_diff_srv_rate</th>\n",
       "      <th>dst_host_same_src_port_rate</th>\n",
       "      <th>dst_host_srv_diff_host_rate</th>\n",
       "      <th>dst_host_serror_rate</th>\n",
       "      <th>dst_host_srv_serror_rate</th>\n",
       "      <th>dst_host_rerror_rate</th>\n",
       "      <th>dst_host_srv_rerror_rate</th>\n",
       "      <th>class</th>\n",
       "    </tr>\n",
       "  </thead>\n",
       "  <tbody>\n",
       "    <tr>\n",
       "      <th>0</th>\n",
       "      <td>0</td>\n",
       "      <td>tcp</td>\n",
       "      <td>private</td>\n",
       "      <td>REJ</td>\n",
       "      <td>0.0</td>\n",
       "      <td>0.0</td>\n",
       "      <td>0</td>\n",
       "      <td>0</td>\n",
       "      <td>0</td>\n",
       "      <td>0</td>\n",
       "      <td>...</td>\n",
       "      <td>10</td>\n",
       "      <td>0.04</td>\n",
       "      <td>0.06</td>\n",
       "      <td>0.00</td>\n",
       "      <td>0.00</td>\n",
       "      <td>0.00</td>\n",
       "      <td>0.0</td>\n",
       "      <td>1.00</td>\n",
       "      <td>1.00</td>\n",
       "      <td>anomaly</td>\n",
       "    </tr>\n",
       "    <tr>\n",
       "      <th>1</th>\n",
       "      <td>0</td>\n",
       "      <td>tcp</td>\n",
       "      <td>private</td>\n",
       "      <td>REJ</td>\n",
       "      <td>0.0</td>\n",
       "      <td>0.0</td>\n",
       "      <td>0</td>\n",
       "      <td>0</td>\n",
       "      <td>0</td>\n",
       "      <td>0</td>\n",
       "      <td>...</td>\n",
       "      <td>1</td>\n",
       "      <td>0.00</td>\n",
       "      <td>0.06</td>\n",
       "      <td>0.00</td>\n",
       "      <td>0.00</td>\n",
       "      <td>0.00</td>\n",
       "      <td>0.0</td>\n",
       "      <td>1.00</td>\n",
       "      <td>1.00</td>\n",
       "      <td>anomaly</td>\n",
       "    </tr>\n",
       "    <tr>\n",
       "      <th>2</th>\n",
       "      <td>2</td>\n",
       "      <td>tcp</td>\n",
       "      <td>ftp_data</td>\n",
       "      <td>SF</td>\n",
       "      <td>12983.0</td>\n",
       "      <td>0.0</td>\n",
       "      <td>0</td>\n",
       "      <td>0</td>\n",
       "      <td>0</td>\n",
       "      <td>0</td>\n",
       "      <td>...</td>\n",
       "      <td>86</td>\n",
       "      <td>0.61</td>\n",
       "      <td>0.04</td>\n",
       "      <td>0.61</td>\n",
       "      <td>0.02</td>\n",
       "      <td>0.00</td>\n",
       "      <td>0.0</td>\n",
       "      <td>0.00</td>\n",
       "      <td>0.00</td>\n",
       "      <td>normal</td>\n",
       "    </tr>\n",
       "    <tr>\n",
       "      <th>3</th>\n",
       "      <td>0</td>\n",
       "      <td>icmp</td>\n",
       "      <td>eco_i</td>\n",
       "      <td>SF</td>\n",
       "      <td>20.0</td>\n",
       "      <td>0.0</td>\n",
       "      <td>0</td>\n",
       "      <td>0</td>\n",
       "      <td>0</td>\n",
       "      <td>0</td>\n",
       "      <td>...</td>\n",
       "      <td>57</td>\n",
       "      <td>1.00</td>\n",
       "      <td>0.00</td>\n",
       "      <td>1.00</td>\n",
       "      <td>0.28</td>\n",
       "      <td>0.00</td>\n",
       "      <td>0.0</td>\n",
       "      <td>0.00</td>\n",
       "      <td>0.00</td>\n",
       "      <td>anomaly</td>\n",
       "    </tr>\n",
       "    <tr>\n",
       "      <th>4</th>\n",
       "      <td>1</td>\n",
       "      <td>tcp</td>\n",
       "      <td>telnet</td>\n",
       "      <td>RSTO</td>\n",
       "      <td>0.0</td>\n",
       "      <td>15.0</td>\n",
       "      <td>0</td>\n",
       "      <td>0</td>\n",
       "      <td>0</td>\n",
       "      <td>0</td>\n",
       "      <td>...</td>\n",
       "      <td>86</td>\n",
       "      <td>0.31</td>\n",
       "      <td>0.17</td>\n",
       "      <td>0.03</td>\n",
       "      <td>0.02</td>\n",
       "      <td>0.00</td>\n",
       "      <td>0.0</td>\n",
       "      <td>0.83</td>\n",
       "      <td>0.71</td>\n",
       "      <td>anomaly</td>\n",
       "    </tr>\n",
       "    <tr>\n",
       "      <th>...</th>\n",
       "      <td>...</td>\n",
       "      <td>...</td>\n",
       "      <td>...</td>\n",
       "      <td>...</td>\n",
       "      <td>...</td>\n",
       "      <td>...</td>\n",
       "      <td>...</td>\n",
       "      <td>...</td>\n",
       "      <td>...</td>\n",
       "      <td>...</td>\n",
       "      <td>...</td>\n",
       "      <td>...</td>\n",
       "      <td>...</td>\n",
       "      <td>...</td>\n",
       "      <td>...</td>\n",
       "      <td>...</td>\n",
       "      <td>...</td>\n",
       "      <td>...</td>\n",
       "      <td>...</td>\n",
       "      <td>...</td>\n",
       "      <td>...</td>\n",
       "    </tr>\n",
       "    <tr>\n",
       "      <th>22539</th>\n",
       "      <td>0</td>\n",
       "      <td>tcp</td>\n",
       "      <td>smtp</td>\n",
       "      <td>SF</td>\n",
       "      <td>794.0</td>\n",
       "      <td>333.0</td>\n",
       "      <td>0</td>\n",
       "      <td>0</td>\n",
       "      <td>0</td>\n",
       "      <td>0</td>\n",
       "      <td>...</td>\n",
       "      <td>141</td>\n",
       "      <td>0.72</td>\n",
       "      <td>0.06</td>\n",
       "      <td>0.01</td>\n",
       "      <td>0.01</td>\n",
       "      <td>0.01</td>\n",
       "      <td>0.0</td>\n",
       "      <td>0.00</td>\n",
       "      <td>0.00</td>\n",
       "      <td>normal</td>\n",
       "    </tr>\n",
       "    <tr>\n",
       "      <th>22540</th>\n",
       "      <td>0</td>\n",
       "      <td>tcp</td>\n",
       "      <td>http</td>\n",
       "      <td>SF</td>\n",
       "      <td>317.0</td>\n",
       "      <td>938.0</td>\n",
       "      <td>0</td>\n",
       "      <td>0</td>\n",
       "      <td>0</td>\n",
       "      <td>0</td>\n",
       "      <td>...</td>\n",
       "      <td>255</td>\n",
       "      <td>1.00</td>\n",
       "      <td>0.00</td>\n",
       "      <td>0.01</td>\n",
       "      <td>0.01</td>\n",
       "      <td>0.01</td>\n",
       "      <td>0.0</td>\n",
       "      <td>0.00</td>\n",
       "      <td>0.00</td>\n",
       "      <td>normal</td>\n",
       "    </tr>\n",
       "    <tr>\n",
       "      <th>22541</th>\n",
       "      <td>0</td>\n",
       "      <td>tcp</td>\n",
       "      <td>http</td>\n",
       "      <td>SF</td>\n",
       "      <td>54540.0</td>\n",
       "      <td>8314.0</td>\n",
       "      <td>0</td>\n",
       "      <td>0</td>\n",
       "      <td>0</td>\n",
       "      <td>2</td>\n",
       "      <td>...</td>\n",
       "      <td>255</td>\n",
       "      <td>1.00</td>\n",
       "      <td>0.00</td>\n",
       "      <td>0.00</td>\n",
       "      <td>0.00</td>\n",
       "      <td>0.00</td>\n",
       "      <td>0.0</td>\n",
       "      <td>0.07</td>\n",
       "      <td>0.07</td>\n",
       "      <td>anomaly</td>\n",
       "    </tr>\n",
       "    <tr>\n",
       "      <th>22542</th>\n",
       "      <td>0</td>\n",
       "      <td>udp</td>\n",
       "      <td>domain_u</td>\n",
       "      <td>SF</td>\n",
       "      <td>42.0</td>\n",
       "      <td>42.0</td>\n",
       "      <td>0</td>\n",
       "      <td>0</td>\n",
       "      <td>0</td>\n",
       "      <td>0</td>\n",
       "      <td>...</td>\n",
       "      <td>252</td>\n",
       "      <td>0.99</td>\n",
       "      <td>0.01</td>\n",
       "      <td>0.00</td>\n",
       "      <td>0.00</td>\n",
       "      <td>0.00</td>\n",
       "      <td>0.0</td>\n",
       "      <td>0.00</td>\n",
       "      <td>0.00</td>\n",
       "      <td>normal</td>\n",
       "    </tr>\n",
       "    <tr>\n",
       "      <th>22543</th>\n",
       "      <td>0</td>\n",
       "      <td>tcp</td>\n",
       "      <td>sunrpc</td>\n",
       "      <td>REJ</td>\n",
       "      <td>0.0</td>\n",
       "      <td>0.0</td>\n",
       "      <td>0</td>\n",
       "      <td>0</td>\n",
       "      <td>0</td>\n",
       "      <td>0</td>\n",
       "      <td>...</td>\n",
       "      <td>21</td>\n",
       "      <td>0.08</td>\n",
       "      <td>0.03</td>\n",
       "      <td>0.00</td>\n",
       "      <td>0.00</td>\n",
       "      <td>0.00</td>\n",
       "      <td>0.0</td>\n",
       "      <td>0.44</td>\n",
       "      <td>1.00</td>\n",
       "      <td>anomaly</td>\n",
       "    </tr>\n",
       "  </tbody>\n",
       "</table>\n",
       "<p>22544 rows × 40 columns</p>\n",
       "</div>"
      ],
      "text/plain": [
       "       duration protocol_type   service  flag  src_bytes  dst_bytes  land  \\\n",
       "0             0           tcp   private   REJ        0.0        0.0     0   \n",
       "1             0           tcp   private   REJ        0.0        0.0     0   \n",
       "2             2           tcp  ftp_data    SF    12983.0        0.0     0   \n",
       "3             0          icmp     eco_i    SF       20.0        0.0     0   \n",
       "4             1           tcp    telnet  RSTO        0.0       15.0     0   \n",
       "...         ...           ...       ...   ...        ...        ...   ...   \n",
       "22539         0           tcp      smtp    SF      794.0      333.0     0   \n",
       "22540         0           tcp      http    SF      317.0      938.0     0   \n",
       "22541         0           tcp      http    SF    54540.0     8314.0     0   \n",
       "22542         0           udp  domain_u    SF       42.0       42.0     0   \n",
       "22543         0           tcp    sunrpc   REJ        0.0        0.0     0   \n",
       "\n",
       "       wrong_fragment  urgent  hot  ...  dst_host_srv_count  \\\n",
       "0                   0       0    0  ...                  10   \n",
       "1                   0       0    0  ...                   1   \n",
       "2                   0       0    0  ...                  86   \n",
       "3                   0       0    0  ...                  57   \n",
       "4                   0       0    0  ...                  86   \n",
       "...               ...     ...  ...  ...                 ...   \n",
       "22539               0       0    0  ...                 141   \n",
       "22540               0       0    0  ...                 255   \n",
       "22541               0       0    2  ...                 255   \n",
       "22542               0       0    0  ...                 252   \n",
       "22543               0       0    0  ...                  21   \n",
       "\n",
       "       dst_host_same_srv_rate  dst_host_diff_srv_rate  \\\n",
       "0                        0.04                    0.06   \n",
       "1                        0.00                    0.06   \n",
       "2                        0.61                    0.04   \n",
       "3                        1.00                    0.00   \n",
       "4                        0.31                    0.17   \n",
       "...                       ...                     ...   \n",
       "22539                    0.72                    0.06   \n",
       "22540                    1.00                    0.00   \n",
       "22541                    1.00                    0.00   \n",
       "22542                    0.99                    0.01   \n",
       "22543                    0.08                    0.03   \n",
       "\n",
       "       dst_host_same_src_port_rate  dst_host_srv_diff_host_rate  \\\n",
       "0                             0.00                         0.00   \n",
       "1                             0.00                         0.00   \n",
       "2                             0.61                         0.02   \n",
       "3                             1.00                         0.28   \n",
       "4                             0.03                         0.02   \n",
       "...                            ...                          ...   \n",
       "22539                         0.01                         0.01   \n",
       "22540                         0.01                         0.01   \n",
       "22541                         0.00                         0.00   \n",
       "22542                         0.00                         0.00   \n",
       "22543                         0.00                         0.00   \n",
       "\n",
       "       dst_host_serror_rate  dst_host_srv_serror_rate  dst_host_rerror_rate  \\\n",
       "0                      0.00                       0.0                  1.00   \n",
       "1                      0.00                       0.0                  1.00   \n",
       "2                      0.00                       0.0                  0.00   \n",
       "3                      0.00                       0.0                  0.00   \n",
       "4                      0.00                       0.0                  0.83   \n",
       "...                     ...                       ...                   ...   \n",
       "22539                  0.01                       0.0                  0.00   \n",
       "22540                  0.01                       0.0                  0.00   \n",
       "22541                  0.00                       0.0                  0.07   \n",
       "22542                  0.00                       0.0                  0.00   \n",
       "22543                  0.00                       0.0                  0.44   \n",
       "\n",
       "       dst_host_srv_rerror_rate    class  \n",
       "0                          1.00  anomaly  \n",
       "1                          1.00  anomaly  \n",
       "2                          0.00   normal  \n",
       "3                          0.00  anomaly  \n",
       "4                          0.71  anomaly  \n",
       "...                         ...      ...  \n",
       "22539                      0.00   normal  \n",
       "22540                      0.00   normal  \n",
       "22541                      0.07  anomaly  \n",
       "22542                      0.00   normal  \n",
       "22543                      1.00  anomaly  \n",
       "\n",
       "[22544 rows x 40 columns]"
      ]
     },
     "execution_count": 2,
     "metadata": {},
     "output_type": "execute_result"
    }
   ],
   "source": [
    "df = pd.read_csv(r\"C:\\Users\\mehem\\OneDrive\\Desktop\\Finally project\\networkintrusion.csv\")\n",
    "df"
   ]
  },
  {
   "cell_type": "code",
   "execution_count": 3,
   "id": "ac699618",
   "metadata": {},
   "outputs": [
    {
     "name": "stdout",
     "output_type": "stream",
     "text": [
      "<class 'pandas.core.frame.DataFrame'>\n",
      "RangeIndex: 22544 entries, 0 to 22543\n",
      "Data columns (total 40 columns):\n",
      " #   Column                       Non-Null Count  Dtype  \n",
      "---  ------                       --------------  -----  \n",
      " 0   duration                     22544 non-null  int64  \n",
      " 1   protocol_type                22544 non-null  object \n",
      " 2   service                      22544 non-null  object \n",
      " 3   flag                         22544 non-null  object \n",
      " 4   src_bytes                    22538 non-null  float64\n",
      " 5   dst_bytes                    22538 non-null  float64\n",
      " 6   land                         22544 non-null  int64  \n",
      " 7   wrong_fragment               22544 non-null  int64  \n",
      " 8   urgent                       22544 non-null  int64  \n",
      " 9   hot                          22544 non-null  int64  \n",
      " 10  num_failed_logins            22544 non-null  int64  \n",
      " 11  logged_in                    22544 non-null  int64  \n",
      " 12  num_compromised              22544 non-null  int64  \n",
      " 13  root_shell                   22544 non-null  int64  \n",
      " 14  num_root                     22544 non-null  int64  \n",
      " 15  num_shells                   22544 non-null  int64  \n",
      " 16  num_access_files             22544 non-null  int64  \n",
      " 17  num_outbound_cmds            22544 non-null  int64  \n",
      " 18  is_host_login                22544 non-null  int64  \n",
      " 19  is_guest_login               22544 non-null  int64  \n",
      " 20  count                        22535 non-null  float64\n",
      " 21  srv_count                    22535 non-null  float64\n",
      " 22  serror_rate                  22544 non-null  float64\n",
      " 23  srv_serror_rate              22544 non-null  float64\n",
      " 24  rerror_rate                  22544 non-null  float64\n",
      " 25  srv_rerror_rate              22544 non-null  float64\n",
      " 26  same_srv_rate                22544 non-null  float64\n",
      " 27  diff_srv_rate                22544 non-null  float64\n",
      " 28  srv_diff_host_rate           22544 non-null  float64\n",
      " 29  dst_host_count               22544 non-null  int64  \n",
      " 30  dst_host_srv_count           22544 non-null  int64  \n",
      " 31  dst_host_same_srv_rate       22544 non-null  float64\n",
      " 32  dst_host_diff_srv_rate       22544 non-null  float64\n",
      " 33  dst_host_same_src_port_rate  22544 non-null  float64\n",
      " 34  dst_host_srv_diff_host_rate  22544 non-null  float64\n",
      " 35  dst_host_serror_rate         22544 non-null  float64\n",
      " 36  dst_host_srv_serror_rate     22544 non-null  float64\n",
      " 37  dst_host_rerror_rate         22544 non-null  float64\n",
      " 38  dst_host_srv_rerror_rate     22544 non-null  float64\n",
      " 39  class                        22544 non-null  object \n",
      "dtypes: float64(19), int64(17), object(4)\n",
      "memory usage: 6.9+ MB\n"
     ]
    }
   ],
   "source": [
    "df.info()"
   ]
  },
  {
   "cell_type": "markdown",
   "id": "32160a4f",
   "metadata": {},
   "source": [
    "# **Statistical information**"
   ]
  },
  {
   "cell_type": "code",
   "execution_count": 4,
   "id": "c5806116",
   "metadata": {},
   "outputs": [
    {
     "data": {
      "text/html": [
       "<div>\n",
       "<style scoped>\n",
       "    .dataframe tbody tr th:only-of-type {\n",
       "        vertical-align: middle;\n",
       "    }\n",
       "\n",
       "    .dataframe tbody tr th {\n",
       "        vertical-align: top;\n",
       "    }\n",
       "\n",
       "    .dataframe thead th {\n",
       "        text-align: right;\n",
       "    }\n",
       "</style>\n",
       "<table border=\"1\" class=\"dataframe\">\n",
       "  <thead>\n",
       "    <tr style=\"text-align: right;\">\n",
       "      <th></th>\n",
       "      <th>duration</th>\n",
       "      <th>src_bytes</th>\n",
       "      <th>dst_bytes</th>\n",
       "      <th>land</th>\n",
       "      <th>wrong_fragment</th>\n",
       "      <th>urgent</th>\n",
       "      <th>hot</th>\n",
       "      <th>num_failed_logins</th>\n",
       "      <th>logged_in</th>\n",
       "      <th>num_compromised</th>\n",
       "      <th>...</th>\n",
       "      <th>dst_host_count</th>\n",
       "      <th>dst_host_srv_count</th>\n",
       "      <th>dst_host_same_srv_rate</th>\n",
       "      <th>dst_host_diff_srv_rate</th>\n",
       "      <th>dst_host_same_src_port_rate</th>\n",
       "      <th>dst_host_srv_diff_host_rate</th>\n",
       "      <th>dst_host_serror_rate</th>\n",
       "      <th>dst_host_srv_serror_rate</th>\n",
       "      <th>dst_host_rerror_rate</th>\n",
       "      <th>dst_host_srv_rerror_rate</th>\n",
       "    </tr>\n",
       "  </thead>\n",
       "  <tbody>\n",
       "    <tr>\n",
       "      <th>count</th>\n",
       "      <td>22544.000000</td>\n",
       "      <td>2.253800e+04</td>\n",
       "      <td>2.253800e+04</td>\n",
       "      <td>22544.000000</td>\n",
       "      <td>22544.000000</td>\n",
       "      <td>22544.000000</td>\n",
       "      <td>22544.000000</td>\n",
       "      <td>22544.000000</td>\n",
       "      <td>22544.000000</td>\n",
       "      <td>22544.000000</td>\n",
       "      <td>...</td>\n",
       "      <td>22544.000000</td>\n",
       "      <td>22544.000000</td>\n",
       "      <td>22544.000000</td>\n",
       "      <td>22544.000000</td>\n",
       "      <td>22544.000000</td>\n",
       "      <td>22544.000000</td>\n",
       "      <td>22544.000000</td>\n",
       "      <td>22544.000000</td>\n",
       "      <td>22544.000000</td>\n",
       "      <td>22544.000000</td>\n",
       "    </tr>\n",
       "    <tr>\n",
       "      <th>mean</th>\n",
       "      <td>218.859076</td>\n",
       "      <td>1.039812e+04</td>\n",
       "      <td>2.055584e+03</td>\n",
       "      <td>0.000311</td>\n",
       "      <td>0.008428</td>\n",
       "      <td>0.000710</td>\n",
       "      <td>0.105394</td>\n",
       "      <td>0.021647</td>\n",
       "      <td>0.442202</td>\n",
       "      <td>0.119899</td>\n",
       "      <td>...</td>\n",
       "      <td>193.869411</td>\n",
       "      <td>140.750532</td>\n",
       "      <td>0.608722</td>\n",
       "      <td>0.090540</td>\n",
       "      <td>0.132261</td>\n",
       "      <td>0.019638</td>\n",
       "      <td>0.097814</td>\n",
       "      <td>0.099426</td>\n",
       "      <td>0.233385</td>\n",
       "      <td>0.226683</td>\n",
       "    </tr>\n",
       "    <tr>\n",
       "      <th>std</th>\n",
       "      <td>1407.176612</td>\n",
       "      <td>4.728493e+05</td>\n",
       "      <td>2.122190e+04</td>\n",
       "      <td>0.017619</td>\n",
       "      <td>0.142599</td>\n",
       "      <td>0.036473</td>\n",
       "      <td>0.928428</td>\n",
       "      <td>0.150328</td>\n",
       "      <td>0.496659</td>\n",
       "      <td>7.269597</td>\n",
       "      <td>...</td>\n",
       "      <td>94.035663</td>\n",
       "      <td>111.783972</td>\n",
       "      <td>0.435688</td>\n",
       "      <td>0.220717</td>\n",
       "      <td>0.306268</td>\n",
       "      <td>0.085394</td>\n",
       "      <td>0.273139</td>\n",
       "      <td>0.281866</td>\n",
       "      <td>0.387229</td>\n",
       "      <td>0.400875</td>\n",
       "    </tr>\n",
       "    <tr>\n",
       "      <th>min</th>\n",
       "      <td>0.000000</td>\n",
       "      <td>0.000000e+00</td>\n",
       "      <td>0.000000e+00</td>\n",
       "      <td>0.000000</td>\n",
       "      <td>0.000000</td>\n",
       "      <td>0.000000</td>\n",
       "      <td>0.000000</td>\n",
       "      <td>0.000000</td>\n",
       "      <td>0.000000</td>\n",
       "      <td>0.000000</td>\n",
       "      <td>...</td>\n",
       "      <td>0.000000</td>\n",
       "      <td>0.000000</td>\n",
       "      <td>0.000000</td>\n",
       "      <td>0.000000</td>\n",
       "      <td>0.000000</td>\n",
       "      <td>0.000000</td>\n",
       "      <td>0.000000</td>\n",
       "      <td>0.000000</td>\n",
       "      <td>0.000000</td>\n",
       "      <td>0.000000</td>\n",
       "    </tr>\n",
       "    <tr>\n",
       "      <th>25%</th>\n",
       "      <td>0.000000</td>\n",
       "      <td>0.000000e+00</td>\n",
       "      <td>0.000000e+00</td>\n",
       "      <td>0.000000</td>\n",
       "      <td>0.000000</td>\n",
       "      <td>0.000000</td>\n",
       "      <td>0.000000</td>\n",
       "      <td>0.000000</td>\n",
       "      <td>0.000000</td>\n",
       "      <td>0.000000</td>\n",
       "      <td>...</td>\n",
       "      <td>121.000000</td>\n",
       "      <td>15.000000</td>\n",
       "      <td>0.070000</td>\n",
       "      <td>0.000000</td>\n",
       "      <td>0.000000</td>\n",
       "      <td>0.000000</td>\n",
       "      <td>0.000000</td>\n",
       "      <td>0.000000</td>\n",
       "      <td>0.000000</td>\n",
       "      <td>0.000000</td>\n",
       "    </tr>\n",
       "    <tr>\n",
       "      <th>50%</th>\n",
       "      <td>0.000000</td>\n",
       "      <td>5.400000e+01</td>\n",
       "      <td>4.600000e+01</td>\n",
       "      <td>0.000000</td>\n",
       "      <td>0.000000</td>\n",
       "      <td>0.000000</td>\n",
       "      <td>0.000000</td>\n",
       "      <td>0.000000</td>\n",
       "      <td>0.000000</td>\n",
       "      <td>0.000000</td>\n",
       "      <td>...</td>\n",
       "      <td>255.000000</td>\n",
       "      <td>168.000000</td>\n",
       "      <td>0.920000</td>\n",
       "      <td>0.010000</td>\n",
       "      <td>0.000000</td>\n",
       "      <td>0.000000</td>\n",
       "      <td>0.000000</td>\n",
       "      <td>0.000000</td>\n",
       "      <td>0.000000</td>\n",
       "      <td>0.000000</td>\n",
       "    </tr>\n",
       "    <tr>\n",
       "      <th>75%</th>\n",
       "      <td>0.000000</td>\n",
       "      <td>2.870000e+02</td>\n",
       "      <td>6.010000e+02</td>\n",
       "      <td>0.000000</td>\n",
       "      <td>0.000000</td>\n",
       "      <td>0.000000</td>\n",
       "      <td>0.000000</td>\n",
       "      <td>0.000000</td>\n",
       "      <td>1.000000</td>\n",
       "      <td>0.000000</td>\n",
       "      <td>...</td>\n",
       "      <td>255.000000</td>\n",
       "      <td>255.000000</td>\n",
       "      <td>1.000000</td>\n",
       "      <td>0.060000</td>\n",
       "      <td>0.030000</td>\n",
       "      <td>0.010000</td>\n",
       "      <td>0.000000</td>\n",
       "      <td>0.000000</td>\n",
       "      <td>0.360000</td>\n",
       "      <td>0.170000</td>\n",
       "    </tr>\n",
       "    <tr>\n",
       "      <th>max</th>\n",
       "      <td>57715.000000</td>\n",
       "      <td>6.282565e+07</td>\n",
       "      <td>1.345927e+06</td>\n",
       "      <td>1.000000</td>\n",
       "      <td>3.000000</td>\n",
       "      <td>3.000000</td>\n",
       "      <td>101.000000</td>\n",
       "      <td>4.000000</td>\n",
       "      <td>1.000000</td>\n",
       "      <td>796.000000</td>\n",
       "      <td>...</td>\n",
       "      <td>255.000000</td>\n",
       "      <td>255.000000</td>\n",
       "      <td>1.000000</td>\n",
       "      <td>1.000000</td>\n",
       "      <td>1.000000</td>\n",
       "      <td>1.000000</td>\n",
       "      <td>1.000000</td>\n",
       "      <td>1.000000</td>\n",
       "      <td>1.000000</td>\n",
       "      <td>1.000000</td>\n",
       "    </tr>\n",
       "  </tbody>\n",
       "</table>\n",
       "<p>8 rows × 36 columns</p>\n",
       "</div>"
      ],
      "text/plain": [
       "           duration     src_bytes     dst_bytes          land  wrong_fragment  \\\n",
       "count  22544.000000  2.253800e+04  2.253800e+04  22544.000000    22544.000000   \n",
       "mean     218.859076  1.039812e+04  2.055584e+03      0.000311        0.008428   \n",
       "std     1407.176612  4.728493e+05  2.122190e+04      0.017619        0.142599   \n",
       "min        0.000000  0.000000e+00  0.000000e+00      0.000000        0.000000   \n",
       "25%        0.000000  0.000000e+00  0.000000e+00      0.000000        0.000000   \n",
       "50%        0.000000  5.400000e+01  4.600000e+01      0.000000        0.000000   \n",
       "75%        0.000000  2.870000e+02  6.010000e+02      0.000000        0.000000   \n",
       "max    57715.000000  6.282565e+07  1.345927e+06      1.000000        3.000000   \n",
       "\n",
       "             urgent           hot  num_failed_logins     logged_in  \\\n",
       "count  22544.000000  22544.000000       22544.000000  22544.000000   \n",
       "mean       0.000710      0.105394           0.021647      0.442202   \n",
       "std        0.036473      0.928428           0.150328      0.496659   \n",
       "min        0.000000      0.000000           0.000000      0.000000   \n",
       "25%        0.000000      0.000000           0.000000      0.000000   \n",
       "50%        0.000000      0.000000           0.000000      0.000000   \n",
       "75%        0.000000      0.000000           0.000000      1.000000   \n",
       "max        3.000000    101.000000           4.000000      1.000000   \n",
       "\n",
       "       num_compromised  ...  dst_host_count  dst_host_srv_count  \\\n",
       "count     22544.000000  ...    22544.000000        22544.000000   \n",
       "mean          0.119899  ...      193.869411          140.750532   \n",
       "std           7.269597  ...       94.035663          111.783972   \n",
       "min           0.000000  ...        0.000000            0.000000   \n",
       "25%           0.000000  ...      121.000000           15.000000   \n",
       "50%           0.000000  ...      255.000000          168.000000   \n",
       "75%           0.000000  ...      255.000000          255.000000   \n",
       "max         796.000000  ...      255.000000          255.000000   \n",
       "\n",
       "       dst_host_same_srv_rate  dst_host_diff_srv_rate  \\\n",
       "count            22544.000000            22544.000000   \n",
       "mean                 0.608722                0.090540   \n",
       "std                  0.435688                0.220717   \n",
       "min                  0.000000                0.000000   \n",
       "25%                  0.070000                0.000000   \n",
       "50%                  0.920000                0.010000   \n",
       "75%                  1.000000                0.060000   \n",
       "max                  1.000000                1.000000   \n",
       "\n",
       "       dst_host_same_src_port_rate  dst_host_srv_diff_host_rate  \\\n",
       "count                 22544.000000                 22544.000000   \n",
       "mean                      0.132261                     0.019638   \n",
       "std                       0.306268                     0.085394   \n",
       "min                       0.000000                     0.000000   \n",
       "25%                       0.000000                     0.000000   \n",
       "50%                       0.000000                     0.000000   \n",
       "75%                       0.030000                     0.010000   \n",
       "max                       1.000000                     1.000000   \n",
       "\n",
       "       dst_host_serror_rate  dst_host_srv_serror_rate  dst_host_rerror_rate  \\\n",
       "count          22544.000000              22544.000000          22544.000000   \n",
       "mean               0.097814                  0.099426              0.233385   \n",
       "std                0.273139                  0.281866              0.387229   \n",
       "min                0.000000                  0.000000              0.000000   \n",
       "25%                0.000000                  0.000000              0.000000   \n",
       "50%                0.000000                  0.000000              0.000000   \n",
       "75%                0.000000                  0.000000              0.360000   \n",
       "max                1.000000                  1.000000              1.000000   \n",
       "\n",
       "       dst_host_srv_rerror_rate  \n",
       "count              22544.000000  \n",
       "mean                   0.226683  \n",
       "std                    0.400875  \n",
       "min                    0.000000  \n",
       "25%                    0.000000  \n",
       "50%                    0.000000  \n",
       "75%                    0.170000  \n",
       "max                    1.000000  \n",
       "\n",
       "[8 rows x 36 columns]"
      ]
     },
     "execution_count": 4,
     "metadata": {},
     "output_type": "execute_result"
    }
   ],
   "source": [
    "df.describe()"
   ]
  },
  {
   "cell_type": "markdown",
   "id": "3c8b0d7a",
   "metadata": {},
   "source": [
    "# **EDA**"
   ]
  },
  {
   "cell_type": "code",
   "execution_count": 13,
   "id": "dd984e83",
   "metadata": {},
   "outputs": [
    {
     "name": "stdout",
     "output_type": "stream",
     "text": [
      "(22544, 40)\n"
     ]
    }
   ],
   "source": [
    "print(df.shape)"
   ]
  },
  {
   "cell_type": "code",
   "execution_count": 12,
   "id": "2eccd474",
   "metadata": {},
   "outputs": [
    {
     "data": {
      "text/plain": [
       "Index(['duration', 'protocol_type', 'service', 'flag', 'src_bytes',\n",
       "       'dst_bytes', 'land', 'wrong_fragment', 'urgent', 'hot',\n",
       "       'num_failed_logins', 'logged_in', 'num_compromised', 'root_shell',\n",
       "       'num_root', 'num_shells', 'num_access_files', 'num_outbound_cmds',\n",
       "       'is_host_login', 'is_guest_login', 'count', 'srv_count', 'serror_rate',\n",
       "       'srv_serror_rate', 'rerror_rate', 'srv_rerror_rate', 'same_srv_rate',\n",
       "       'diff_srv_rate', 'srv_diff_host_rate', 'dst_host_count',\n",
       "       'dst_host_srv_count', 'dst_host_same_srv_rate',\n",
       "       'dst_host_diff_srv_rate', 'dst_host_same_src_port_rate',\n",
       "       'dst_host_srv_diff_host_rate', 'dst_host_serror_rate',\n",
       "       'dst_host_srv_serror_rate', 'dst_host_rerror_rate',\n",
       "       'dst_host_srv_rerror_rate', 'class'],\n",
       "      dtype='object')"
      ]
     },
     "execution_count": 12,
     "metadata": {},
     "output_type": "execute_result"
    }
   ],
   "source": [
    "df.columns"
   ]
  },
  {
   "cell_type": "code",
   "execution_count": 15,
   "id": "a7592b09",
   "metadata": {},
   "outputs": [
    {
     "data": {
      "text/plain": [
       "<Axes: title={'center': 'Class paylanması'}, xlabel='class'>"
      ]
     },
     "execution_count": 15,
     "metadata": {},
     "output_type": "execute_result"
    },
    {
     "data": {
      "image/png": "[encoded data removed]",
      "text/plain": [
       "<Figure size 640x480 with 1 Axes>"
      ]
     },
     "metadata": {},
     "output_type": "display_data"
    }
   ],
   "source": [
    "df['class'].value_counts(normalize=True).plot(kind='bar', title='Class paylanması')"
   ]
  },
  {
   "cell_type": "code",
   "execution_count": null,
   "id": "49574acf",
   "metadata": {},
   "outputs": [],
   "source": [
    "from sklearn.impute import KNNImputer\n",
    "\n",
    "# 1. Rəqəmsal sütunları seç\n",
    "numeric_cols = df.select_dtypes(include=['int64', 'float64']).columns\n",
    "\n",
    "# 2. Sadəcə bu sütunlara KNNImputer tətbiq et\n",
    "imputer = KNNImputer(n_neighbors=3)\n",
    "df[numeric_cols] = imputer.fit_transform(df[numeric_cols])"
   ]
  },
  {
   "cell_type": "code",
   "execution_count": 19,
   "id": "6a1a1b53",
   "metadata": {},
   "outputs": [],
   "source": [
    "df = pd.get_dummies(df, columns=['protocol_type', 'service', 'flag'], drop_first=True)"
   ]
  },
  {
   "cell_type": "code",
   "execution_count": null,
   "id": "7de7565c",
   "metadata": {},
   "outputs": [
    {
     "data": {
      "image/png": "[encoded data removed]",
      "text/plain": [
       "<Figure size 640x480 with 1 Axes>"
      ]
     },
     "metadata": {},
     "output_type": "display_data"
    },
    {
     "data": {
      "image/png": "[encoded data removed]",
      "text/plain": [
       "<Figure size 640x480 with 1 Axes>"
      ]
     },
     "metadata": {},
     "output_type": "display_data"
    }
   ],
   "source": [
    "# Protocol növlərinin class-a görə paylanması\n",
    "sns.countplot(x='protocol_type', hue='class', data=df)\n",
    "plt.title(\"Protocol növü və class əlaqəsi\")\n",
    "plt.show()\n",
    "\n",
    "# Service növlərinin class-a görə paylanması (ilk 10 növ üçün)\n",
    "top_services = df['service'].value_counts().head(10).index\n",
    "sns.countplot(x='service', hue='class', data=df[df['service'].isin(top_services)])\n",
    "plt.title(\"Service növü və class əlaqəsi (ilk 10 service)\")\n",
    "plt.xticks(rotation=45)\n",
    "plt.show()\n"
   ]
  },
  {
   "cell_type": "code",
   "execution_count": null,
   "id": "95685c99",
   "metadata": {},
   "outputs": [
    {
     "data": {
      "image/png": "[encoded data removed]",
      "text/plain": [
       "<Figure size 640x480 with 1 Axes>"
      ]
     },
     "metadata": {},
     "output_type": "display_data"
    }
   ],
   "source": [
    "# src_bytes üçün class-a görə paylanma\n",
    "sns.histplot(data=df, x='src_bytes', hue='class', bins=50, log_scale=True)\n",
    "plt.title(\"src_bytes paylanması class-a görə\")\n",
    "plt.show()"
   ]
  },
  {
   "cell_type": "code",
   "execution_count": null,
   "id": "b71d923d",
   "metadata": {},
   "outputs": [
    {
     "data": {
      "text/plain": [
       "duration                        624\n",
       "protocol_type                     3\n",
       "service                          64\n",
       "flag                             11\n",
       "src_bytes                      1149\n",
       "dst_bytes                      3649\n",
       "land                              2\n",
       "wrong_fragment                    3\n",
       "urgent                            4\n",
       "hot                              16\n",
       "num_failed_logins                 5\n",
       "logged_in                         2\n",
       "num_compromised                  23\n",
       "root_shell                        2\n",
       "num_root                         20\n",
       "num_shells                        4\n",
       "num_access_files                  5\n",
       "num_outbound_cmds                 1\n",
       "is_host_login                     2\n",
       "is_guest_login                    2\n",
       "count                           495\n",
       "srv_count                       457\n",
       "serror_rate                      88\n",
       "srv_serror_rate                  82\n",
       "rerror_rate                      90\n",
       "srv_rerror_rate                  93\n",
       "same_srv_rate                    75\n",
       "diff_srv_rate                    99\n",
       "srv_diff_host_rate               84\n",
       "dst_host_count                  256\n",
       "dst_host_srv_count              256\n",
       "dst_host_same_srv_rate          101\n",
       "dst_host_diff_srv_rate          101\n",
       "dst_host_same_src_port_rate     101\n",
       "dst_host_srv_diff_host_rate      58\n",
       "dst_host_serror_rate             99\n",
       "dst_host_srv_serror_rate        101\n",
       "dst_host_rerror_rate            101\n",
       "dst_host_srv_rerror_rate        100\n",
       "class                             2\n",
       "dtype: int64"
      ]
     },
     "execution_count": 14,
     "metadata": {},
     "output_type": "execute_result"
    }
   ],
   "source": [
    "df.nunique()"
   ]
  },
  {
   "cell_type": "code",
   "execution_count": null,
   "id": "66595507",
   "metadata": {},
   "outputs": [
    {
     "data": {
      "text/plain": [
       "class\n",
       "anomaly    12833\n",
       "normal      9711\n",
       "Name: count, dtype: int64"
      ]
     },
     "execution_count": 16,
     "metadata": {},
     "output_type": "execute_result"
    }
   ],
   "source": [
    "df['class'].value_counts()"
   ]
  },
  {
   "cell_type": "code",
   "execution_count": null,
   "id": "9f42e27f",
   "metadata": {},
   "outputs": [
    {
     "data": {
      "text/plain": [
       "num_outbound_cmds\n",
       "0    22544\n",
       "Name: count, dtype: int64"
      ]
     },
     "execution_count": 20,
     "metadata": {},
     "output_type": "execute_result"
    }
   ],
   "source": [
    "df['num_outbound_cmds'].value_counts()"
   ]
  },
  {
   "cell_type": "code",
   "execution_count": null,
   "id": "1245759a",
   "metadata": {},
   "outputs": [
    {
     "data": {
      "text/plain": [
       "land\n",
       "0    22537\n",
       "1        7\n",
       "Name: count, dtype: int64"
      ]
     },
     "execution_count": 21,
     "metadata": {},
     "output_type": "execute_result"
    }
   ],
   "source": [
    "df['land'].value_counts()"
   ]
  },
  {
   "cell_type": "code",
   "execution_count": null,
   "id": "54c3b4ba",
   "metadata": {},
   "outputs": [
    {
     "data": {
      "text/plain": [
       "wrong_fragment\n",
       "0    22444\n",
       "1       55\n",
       "3       45\n",
       "Name: count, dtype: int64"
      ]
     },
     "execution_count": 22,
     "metadata": {},
     "output_type": "execute_result"
    }
   ],
   "source": [
    "df['wrong_fragment'].value_counts()"
   ]
  },
  {
   "cell_type": "code",
   "execution_count": null,
   "id": "65eec622",
   "metadata": {},
   "outputs": [
    {
     "data": {
      "text/plain": [
       "urgent\n",
       "0    22534\n",
       "1        5\n",
       "2        4\n",
       "3        1\n",
       "Name: count, dtype: int64"
      ]
     },
     "execution_count": 23,
     "metadata": {},
     "output_type": "execute_result"
    }
   ],
   "source": [
    "df['urgent'].value_counts()"
   ]
  },
  {
   "cell_type": "code",
   "execution_count": null,
   "id": "fdcb3943",
   "metadata": {},
   "outputs": [
    {
     "data": {
      "text/plain": [
       "hot\n",
       "0      21537\n",
       "2        846\n",
       "1         90\n",
       "4         20\n",
       "3         12\n",
       "5         11\n",
       "7          9\n",
       "6          6\n",
       "18         3\n",
       "22         2\n",
       "30         2\n",
       "10         2\n",
       "19         1\n",
       "11         1\n",
       "101        1\n",
       "15         1\n",
       "Name: count, dtype: int64"
      ]
     },
     "execution_count": 24,
     "metadata": {},
     "output_type": "execute_result"
    }
   ],
   "source": [
    "df['hot'].value_counts()"
   ]
  },
  {
   "cell_type": "code",
   "execution_count": null,
   "id": "60e0c350",
   "metadata": {},
   "outputs": [
    {
     "data": {
      "text/plain": [
       "num_failed_logins\n",
       "0    22066\n",
       "1      473\n",
       "3        3\n",
       "2        1\n",
       "4        1\n",
       "Name: count, dtype: int64"
      ]
     },
     "execution_count": 25,
     "metadata": {},
     "output_type": "execute_result"
    }
   ],
   "source": [
    "df['num_failed_logins'].value_counts()"
   ]
  },
  {
   "cell_type": "code",
   "execution_count": null,
   "id": "7b1d4e6f",
   "metadata": {},
   "outputs": [
    {
     "data": {
      "text/plain": [
       "logged_in\n",
       "0    12575\n",
       "1     9969\n",
       "Name: count, dtype: int64"
      ]
     },
     "execution_count": 26,
     "metadata": {},
     "output_type": "execute_result"
    }
   ],
   "source": [
    "df['logged_in'].value_counts()"
   ]
  },
  {
   "cell_type": "code",
   "execution_count": null,
   "id": "79e1a353",
   "metadata": {},
   "outputs": [
    {
     "data": {
      "text/plain": [
       "num_compromised\n",
       "0      22175\n",
       "1        325\n",
       "2         11\n",
       "8          4\n",
       "4          4\n",
       "5          3\n",
       "3          3\n",
       "6          2\n",
       "49         2\n",
       "14         2\n",
       "611        1\n",
       "165        1\n",
       "15         1\n",
       "10         1\n",
       "11         1\n",
       "381        1\n",
       "25         1\n",
       "796        1\n",
       "9          1\n",
       "36         1\n",
       "23         1\n",
       "57         1\n",
       "7          1\n",
       "Name: count, dtype: int64"
      ]
     },
     "execution_count": 27,
     "metadata": {},
     "output_type": "execute_result"
    }
   ],
   "source": [
    "df['num_compromised'].value_counts()"
   ]
  },
  {
   "cell_type": "code",
   "execution_count": null,
   "id": "0fdebbfc",
   "metadata": {},
   "outputs": [
    {
     "data": {
      "text/plain": [
       "root_shell\n",
       "0    22489\n",
       "1       55\n",
       "Name: count, dtype: int64"
      ]
     },
     "execution_count": 28,
     "metadata": {},
     "output_type": "execute_result"
    }
   ],
   "source": [
    "df['root_shell'].value_counts()"
   ]
  },
  {
   "cell_type": "code",
   "execution_count": null,
   "id": "0561cbbe",
   "metadata": {},
   "outputs": [
    {
     "data": {
      "text/plain": [
       "num_root\n",
       "0      22496\n",
       "1         14\n",
       "3          7\n",
       "4          6\n",
       "2          4\n",
       "7          2\n",
       "8          2\n",
       "684        1\n",
       "17         1\n",
       "173        1\n",
       "23         1\n",
       "145        1\n",
       "26         1\n",
       "401        1\n",
       "878        1\n",
       "31         1\n",
       "9          1\n",
       "45         1\n",
       "51         1\n",
       "5          1\n",
       "Name: count, dtype: int64"
      ]
     },
     "execution_count": 30,
     "metadata": {},
     "output_type": "execute_result"
    }
   ],
   "source": [
    "df['num_root'].value_counts()"
   ]
  },
  {
   "cell_type": "code",
   "execution_count": null,
   "id": "21e6e2ee",
   "metadata": {},
   "outputs": [
    {
     "name": "stdout",
     "output_type": "stream",
     "text": [
      "                        Feature  Importance\n",
      "37         dst_host_rerror_rate    0.150955\n",
      "4                     src_bytes    0.149943\n",
      "9                           hot    0.113469\n",
      "5                     dst_bytes    0.057933\n",
      "0                      duration    0.056569\n",
      "3                          flag    0.053708\n",
      "1                 protocol_type    0.048491\n",
      "10            num_failed_logins    0.036252\n",
      "11                    logged_in    0.033944\n",
      "12              num_compromised    0.031083\n",
      "2                       service    0.025095\n",
      "15                   num_shells    0.023629\n",
      "28           srv_diff_host_rate    0.022961\n",
      "33  dst_host_same_src_port_rate    0.022250\n",
      "36     dst_host_srv_serror_rate    0.021429\n",
      "38     dst_host_srv_rerror_rate    0.019285\n",
      "31       dst_host_same_srv_rate    0.017592\n",
      "18                is_host_login    0.014103\n",
      "21                    srv_count    0.013548\n",
      "30           dst_host_srv_count    0.013144\n",
      "20                        count    0.008819\n",
      "24                  rerror_rate    0.008451\n",
      "34  dst_host_srv_diff_host_rate    0.008209\n",
      "29               dst_host_count    0.007578\n",
      "14                     num_root    0.007557\n",
      "32       dst_host_diff_srv_rate    0.007135\n",
      "35         dst_host_serror_rate    0.006222\n",
      "22                  serror_rate    0.006059\n",
      "27                diff_srv_rate    0.004944\n",
      "26                same_srv_rate    0.003611\n",
      "19               is_guest_login    0.001891\n",
      "7                wrong_fragment    0.001734\n",
      "23              srv_serror_rate    0.001615\n",
      "16             num_access_files    0.000791\n",
      "6                          land    0.000000\n",
      "17            num_outbound_cmds    0.000000\n",
      "13                   root_shell    0.000000\n",
      "8                        urgent    0.000000\n",
      "25              srv_rerror_rate    0.000000\n"
     ]
    },
    {
     "data": {
      "image/png": "[encoded data removed]",
      "text/plain": [
       "<Figure size 1300x800 with 1 Axes>"
      ]
     },
     "metadata": {},
     "output_type": "display_data"
    }
   ],
   "source": [
    "# import pandas as pd\n",
    "# from sklearn.model_selection import train_test_split\n",
    "# from sklearn.preprocessing import LabelEncoder\n",
    "# from xgboost import XGBClassifier\n",
    "# import matplotlib.pyplot as plt\n",
    "\n",
    "\n",
    "# df = df.fillna(0)\n",
    "\n",
    "# cat_cols = df.select_dtypes(include=['object']).columns\n",
    "# le = LabelEncoder()\n",
    "# for col in cat_cols:\n",
    "#     df[col] = le.fit_transform(df[col])\n",
    "\n",
    "# X = df.drop('class', axis=1)\n",
    "# y = df['class']\n",
    "\n",
    "# X_train, X_test, y_train, y_test = train_test_split(X, y, test_size=0.3, random_state=42, stratify=y)\n",
    "\n",
    "# model = XGBClassifier(use_label_encoder=False, eval_metric='logloss', random_state=42)\n",
    "# model.fit(X_train, y_train)\n",
    "\n",
    "# importances = model.feature_importances_\n",
    "# feat_names = X.columns\n",
    "\n",
    "# feat_imp_df = pd.DataFrame({'Feature': feat_names, 'Importance': importances})\n",
    "# feat_imp_df = feat_imp_df.sort_values(by='Importance', ascending=False)\n",
    "\n",
    "# print(feat_imp_df)\n",
    "\n",
    "# plt.figure(figsize=(13,8))\n",
    "# plt.barh(feat_imp_df['Feature'], feat_imp_df['Importance'])\n",
    "# plt.xlabel('Importance')\n",
    "# plt.title('Feature Importance (XGBoost)')\n",
    "# plt.gca().invert_yaxis()\n",
    "# plt.show()\n"
   ]
  },
  {
   "cell_type": "code",
   "execution_count": null,
   "id": "201fd1a3",
   "metadata": {},
   "outputs": [
    {
     "name": "stdout",
     "output_type": "stream",
     "text": [
      "Confusion Matrix:\n",
      "[[3809   41]\n",
      " [  41 2873]]\n",
      "\n",
      "Classification Report:\n",
      "              precision    recall  f1-score   support\n",
      "\n",
      "           0       0.99      0.99      0.99      3850\n",
      "           1       0.99      0.99      0.99      2914\n",
      "\n",
      "    accuracy                           0.99      6764\n",
      "   macro avg       0.99      0.99      0.99      6764\n",
      "weighted avg       0.99      0.99      0.99      6764\n",
      "\n",
      "\n",
      "Accuracy Score:\n",
      "0.9878769958604376\n"
     ]
    }
   ],
   "source": [
    "# # Test datası üzərində proqnoz ver\n",
    "# y_pred = model.predict(X_test)\n",
    "\n",
    "# # Nəticələri qiymətləndir\n",
    "# print(\"Confusion Matrix:\")\n",
    "# print(confusion_matrix(y_test, y_pred))\n",
    "\n",
    "# print(\"\\nClassification Report:\")\n",
    "# print(classification_report(y_test, y_pred))\n",
    "\n",
    "# print(\"\\nAccuracy Score:\")\n",
    "# print(accuracy_score(y_test, y_pred))\n"
   ]
  },
  {
   "cell_type": "code",
   "execution_count": null,
   "id": "bd8cea1a",
   "metadata": {},
   "outputs": [
    {
     "name": "stdout",
     "output_type": "stream",
     "text": [
      "Confusion Matrix (Reduced Features):\n",
      "[[3789   53]\n",
      " [  24 2898]]\n",
      "\n",
      "Classification Report (Reduced Features):\n",
      "              precision    recall  f1-score   support\n",
      "\n",
      "           0       0.99      0.99      0.99      3842\n",
      "           1       0.98      0.99      0.99      2922\n",
      "\n",
      "    accuracy                           0.99      6764\n",
      "   macro avg       0.99      0.99      0.99      6764\n",
      "weighted avg       0.99      0.99      0.99      6764\n",
      "\n",
      "\n",
      "Accuracy Score (Reduced Features):\n",
      "0.9886162034299231\n"
     ]
    }
   ],
   "source": [
    "# X = df.drop('class', axis=1)\n",
    "# y = df['class']\n",
    "\n",
    "# # Vacib olmayan atributlar\n",
    "# low_importance_features = [\n",
    "#     'srv_rerror_rate', 'urgent', 'root_shell', 'num_outbound_cmds', 'land',\n",
    "#     'num_access_files', 'srv_serror_rate', 'wrong_fragment', 'is_guest_login',\n",
    "#     'same_srv_rate', 'diff_srv_rate', 'serror_rate', 'dst_host_serror_rate',\n",
    "#     'dst_host_diff_srv_rate', 'num_root', 'dst_host_count',\n",
    "#     'dst_host_srv_diff_host_rate', 'rerror_rate'\n",
    "# ]\n",
    "\n",
    "# # Onları çıxaq\n",
    "# X_reduced = X.drop(columns=low_importance_features)\n",
    "\n",
    "# # Train-test bölməsi\n",
    "# X_train, X_test, y_train, y_test = train_test_split(X_reduced, y, test_size=0.3, random_state=42)\n",
    "\n",
    "# # Model qur\n",
    "# model_reduced = XGBClassifier(use_label_encoder=False, eval_metric='logloss')\n",
    "# model_reduced.fit(X_train, y_train)\n",
    "\n",
    "# # Test et\n",
    "# y_pred_reduced = model_reduced.predict(X_test)\n",
    "\n",
    "# # Nəticələr\n",
    "# print(\"Confusion Matrix (Reduced Features):\")\n",
    "# print(confusion_matrix(y_test, y_pred_reduced))\n",
    "\n",
    "# print(\"\\nClassification Report (Reduced Features):\")\n",
    "# print(classification_report(y_test, y_pred_reduced))\n",
    "\n",
    "# print(\"\\nAccuracy Score (Reduced Features):\")\n",
    "# print(accuracy_score(y_test, y_pred_reduced))"
   ]
  },
  {
   "cell_type": "code",
   "execution_count": null,
   "id": "bf1bb90a",
   "metadata": {},
   "outputs": [
    {
     "name": "stdout",
     "output_type": "stream",
     "text": [
      "Cross-validation scores: [0.99001996 0.99024174 0.98802395 0.98780217 0.98779947]\n",
      "Mean accuracy: 0.9887774583928859\n",
      "Standard deviation: 0.0011102563535465779\n"
     ]
    }
   ],
   "source": [
    "# from sklearn.model_selection import cross_val_score\n",
    "# import numpy as np\n",
    "\n",
    "# # Cross-validation\n",
    "# cv_scores = cross_val_score(model_reduced, X_reduced, y, cv=5, scoring='accuracy')\n",
    "\n",
    "# print(\"Cross-validation scores:\", cv_scores)\n",
    "# print(\"Mean accuracy:\", np.mean(cv_scores))\n",
    "# print(\"Standard deviation:\", np.std(cv_scores))"
   ]
  },
  {
   "cell_type": "code",
   "execution_count": 20,
   "id": "86372126",
   "metadata": {},
   "outputs": [],
   "source": [
    "df['class'] = df['class'].map({'normal': 0, 'anomaly': 1})"
   ]
  },
  {
   "cell_type": "code",
   "execution_count": 21,
   "id": "a67b3e9a",
   "metadata": {},
   "outputs": [],
   "source": [
    "from sklearn.model_selection import train_test_split\n",
    "\n",
    "X = df.drop('class', axis=1)\n",
    "y = df['class']\n",
    "\n",
    "X_train, X_test, y_train, y_test = train_test_split(X, y, test_size=0.2, random_state=42, stratify=y)"
   ]
  },
  {
   "cell_type": "code",
   "execution_count": 22,
   "id": "654c4398",
   "metadata": {},
   "outputs": [
    {
     "name": "stderr",
     "output_type": "stream",
     "text": [
      "  File \"c:\\Users\\mehem\\OneDrive\\Desktop\\Machine Learning\\env-1\\lib\\site-packages\\joblib\\externals\\loky\\backend\\context.py\", line 257, in _count_physical_cores\n",
      "    cpu_info = subprocess.run(\n",
      "  File \"C:\\Program Files\\Python310\\lib\\subprocess.py\", line 503, in run\n",
      "    with Popen(*popenargs, **kwargs) as process:\n",
      "  File \"C:\\Program Files\\Python310\\lib\\subprocess.py\", line 971, in __init__\n",
      "    self._execute_child(args, executable, preexec_fn, close_fds,\n",
      "  File \"C:\\Program Files\\Python310\\lib\\subprocess.py\", line 1440, in _execute_child\n",
      "    hp, ht, pid, tid = _winapi.CreateProcess(executable, args,\n"
     ]
    }
   ],
   "source": [
    "from imblearn.over_sampling import SMOTE\n",
    "\n",
    "smote = SMOTE(random_state=42)\n",
    "X_train_resampled, y_train_resampled = smote.fit_resample(X_train, y_train)\n"
   ]
  },
  {
   "cell_type": "code",
   "execution_count": 28,
   "id": "75bef20e",
   "metadata": {},
   "outputs": [
    {
     "name": "stdout",
     "output_type": "stream",
     "text": [
      "[[1916   26]\n",
      " [  33 2534]]\n",
      "              precision    recall  f1-score   support\n",
      "\n",
      "           0       0.98      0.99      0.98      1942\n",
      "           1       0.99      0.99      0.99      2567\n",
      "\n",
      "    accuracy                           0.99      4509\n",
      "   macro avg       0.99      0.99      0.99      4509\n",
      "weighted avg       0.99      0.99      0.99      4509\n",
      "\n",
      "Accuracy: 0.9869150587713462\n"
     ]
    }
   ],
   "source": [
    "from xgboost import XGBClassifier\n",
    "from sklearn.metrics import classification_report, confusion_matrix, accuracy_score\n",
    "\n",
    "model = XGBClassifier(use_label_encoder=False, eval_metric='logloss')\n",
    "model.fit(X_train_resampled, y_train_resampled)\n",
    "\n",
    "y_pred = model.predict(X_test)\n",
    "print(confusion_matrix(y_test, y_pred))\n",
    "print(classification_report(y_test, y_pred))\n",
    "print(\"Accuracy:\", accuracy_score(y_test, y_pred))\n"
   ]
  },
  {
   "cell_type": "code",
   "execution_count": null,
   "id": "302f5915",
   "metadata": {},
   "outputs": [
    {
     "data": {
      "image/png": "[encoded data removed]",
      "text/plain": [
       "<Figure size 640x480 with 1 Axes>"
      ]
     },
     "metadata": {},
     "output_type": "display_data"
    }
   ],
   "source": [
    "import matplotlib.pyplot as plt\n",
    "\n",
    "feature_importance = model.feature_importances_\n",
    "sorted_idx = np.argsort(feature_importance)[-10:]  # Top 10\n",
    "plt.barh(X.columns[sorted_idx], feature_importance[sorted_idx])\n",
    "plt.title(\"Ən əhəmiyyətli xüsusiyyətlər\")\n",
    "plt.show()"
   ]
  },
  {
   "cell_type": "code",
   "execution_count": 25,
   "id": "9c071cbd",
   "metadata": {},
   "outputs": [
    {
     "name": "stdout",
     "output_type": "stream",
     "text": [
      "CV scores: [0.99001996 0.9895764  0.98802395 0.98868929 0.98757764]\n",
      "Mean accuracy: 0.9887774485535485\n"
     ]
    }
   ],
   "source": [
    "from sklearn.model_selection import cross_val_score\n",
    "scores = cross_val_score(model, X, y, cv=5, scoring='accuracy')\n",
    "print(\"CV scores:\", scores)\n",
    "print(\"Mean accuracy:\", scores.mean())"
   ]
  },
  {
   "cell_type": "code",
   "execution_count": null,
   "id": "c3a9ec3f",
   "metadata": {},
   "outputs": [
    {
     "data": {
      "image/png": "[encoded data removed]",
      "text/plain": [
       "<Figure size 640x480 with 1 Axes>"
      ]
     },
     "metadata": {},
     "output_type": "display_data"
    }
   ],
   "source": [
    "from sklearn.model_selection import learning_curve\n",
    "import matplotlib.pyplot as plt\n",
    "\n",
    "train_sizes, train_scores, test_scores = learning_curve(\n",
    "    model, X, y, cv=5, scoring='accuracy', n_jobs=-1,\n",
    "    train_sizes=np.linspace(0.1, 1.0, 5))\n",
    "\n",
    "train_scores_mean = np.mean(train_scores, axis=1)\n",
    "test_scores_mean = np.mean(test_scores, axis=1)\n",
    "\n",
    "plt.plot(train_sizes, train_scores_mean, 'o-', label=\"Train score\")\n",
    "plt.plot(train_sizes, test_scores_mean, 'o-', label=\"Test score\")\n",
    "plt.legend()\n",
    "plt.title(\"Learning Curve\")\n",
    "plt.show()"
   ]
  },
  {
   "cell_type": "code",
   "execution_count": 31,
   "id": "4f6c9ef2",
   "metadata": {},
   "outputs": [
    {
     "data": {
      "text/plain": [
       "['model.pkl']"
      ]
     },
     "execution_count": 31,
     "metadata": {},
     "output_type": "execute_result"
    }
   ],
   "source": [
    "import joblib\n",
    "joblib.dump(model, 'model.pkl')"
   ]
  },
  {
   "cell_type": "code",
   "execution_count": null,
   "id": "709b29a3",
   "metadata": {},
   "outputs": [],
   "source": []
  }
 ],
 "metadata": {
  "kernelspec": {
   "display_name": "env-1",
   "language": "python",
   "name": "python3"
  },
  "language_info": {
   "codemirror_mode": {
    "name": "ipython",
    "version": 3
   },
   "file_extension": ".py",
   "mimetype": "text/x-python",
   "name": "python",
   "nbconvert_exporter": "python",
   "pygments_lexer": "ipython3",
   "version": "3.10.9"
  }
 },
 "nbformat": 4,
 "nbformat_minor": 5
}
